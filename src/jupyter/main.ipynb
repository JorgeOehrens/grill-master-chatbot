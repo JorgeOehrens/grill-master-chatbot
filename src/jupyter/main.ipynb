{
 "cells": [
  {
   "cell_type": "markdown",
   "metadata": {},
   "source": [
    "## ETL\n",
    "\n",
    "Create a dataframe with movies for netflix, disney and amazon prime, with the following columns: id, title, genres, vote_average, vote_count, stream_platform"
   ]
  },
  {
   "cell_type": "code",
   "execution_count": 32,
   "metadata": {},
   "outputs": [
    {
     "name": "stdout",
     "output_type": "stream",
     "text": [
      "  show_id     type                  title         director  \\\n",
      "0      s1    Movie   Dick Johnson Is Dead  Kirsten Johnson   \n",
      "1      s2  TV Show          Blood & Water              NaN   \n",
      "2      s3  TV Show              Ganglands  Julien Leclercq   \n",
      "3      s4  TV Show  Jailbirds New Orleans              NaN   \n",
      "4      s5  TV Show           Kota Factory              NaN   \n",
      "\n",
      "                                                cast        country  \\\n",
      "0                                                NaN  United States   \n",
      "1  Ama Qamata, Khosi Ngema, Gail Mabalane, Thaban...   South Africa   \n",
      "2  Sami Bouajila, Tracy Gotoas, Samuel Jouy, Nabi...            NaN   \n",
      "3                                                NaN            NaN   \n",
      "4  Mayur More, Jitendra Kumar, Ranjan Raj, Alam K...          India   \n",
      "\n",
      "           date_added  release_year rating   duration  \\\n",
      "0  September 25, 2021          2020  PG-13     90 min   \n",
      "1  September 24, 2021          2021  TV-MA  2 Seasons   \n",
      "2  September 24, 2021          2021  TV-MA   1 Season   \n",
      "3  September 24, 2021          2021  TV-MA   1 Season   \n",
      "4  September 24, 2021          2021  TV-MA  2 Seasons   \n",
      "\n",
      "                                           listed_in  \\\n",
      "0                                      Documentaries   \n",
      "1    International TV Shows, TV Dramas, TV Mysteries   \n",
      "2  Crime TV Shows, International TV Shows, TV Act...   \n",
      "3                             Docuseries, Reality TV   \n",
      "4  International TV Shows, Romantic TV Shows, TV ...   \n",
      "\n",
      "                                         description  \n",
      "0  As her father nears the end of his life, filmm...  \n",
      "1  After crossing paths at a party, a Cape Town t...  \n",
      "2  To protect his family from a powerful drug lor...  \n",
      "3  Feuds, flirtations and toilet talk go down amo...  \n",
      "4  In a city of coaching centers known to train I...  \n"
     ]
    }
   ],
   "source": [
    "import pandas as pd\n",
    "\n",
    "movies_df = pd.read_csv('../../data/netflix_titles.csv')\n",
    "print(movies_df.head())"
   ]
  },
  {
   "cell_type": "code",
   "execution_count": 33,
   "metadata": {},
   "outputs": [
    {
     "name": "stdout",
     "output_type": "stream",
     "text": [
      "  show_id     type                  title         director  \\\n",
      "0      s1    Movie   Dick Johnson Is Dead  Kirsten Johnson   \n",
      "1      s2  TV Show          Blood & Water              NaN   \n",
      "2      s3  TV Show              Ganglands  Julien Leclercq   \n",
      "3      s4  TV Show  Jailbirds New Orleans              NaN   \n",
      "4      s5  TV Show           Kota Factory              NaN   \n",
      "\n",
      "                                                cast        country  \\\n",
      "0                                                NaN  United States   \n",
      "1  Ama Qamata, Khosi Ngema, Gail Mabalane, Thaban...   South Africa   \n",
      "2  Sami Bouajila, Tracy Gotoas, Samuel Jouy, Nabi...            NaN   \n",
      "3                                                NaN            NaN   \n",
      "4  Mayur More, Jitendra Kumar, Ranjan Raj, Alam K...          India   \n",
      "\n",
      "           date_added  release_year rating   duration  \\\n",
      "0  September 25, 2021          2020  PG-13     90 min   \n",
      "1  September 24, 2021          2021  TV-MA  2 Seasons   \n",
      "2  September 24, 2021          2021  TV-MA   1 Season   \n",
      "3  September 24, 2021          2021  TV-MA   1 Season   \n",
      "4  September 24, 2021          2021  TV-MA  2 Seasons   \n",
      "\n",
      "                                           listed_in  \\\n",
      "0                                      Documentaries   \n",
      "1    International TV Shows, TV Dramas, TV Mysteries   \n",
      "2  Crime TV Shows, International TV Shows, TV Act...   \n",
      "3                             Docuseries, Reality TV   \n",
      "4  International TV Shows, Romantic TV Shows, TV ...   \n",
      "\n",
      "                                         description  \\\n",
      "0  As her father nears the end of his life, filmm...   \n",
      "1  After crossing paths at a party, a Cape Town t...   \n",
      "2  To protect his family from a powerful drug lor...   \n",
      "3  Feuds, flirtations and toilet talk go down amo...   \n",
      "4  In a city of coaching centers known to train I...   \n",
      "\n",
      "                              textual_representation  \n",
      "0  Title: Dick Johnson Is Dead, Director: Kirsten...  \n",
      "1  Title: Blood & Water, Director: nan, Cast: Ama...  \n",
      "2  Title: Ganglands, Director: Julien Leclercq, C...  \n",
      "3  Title: Jailbirds New Orleans, Director: nan, C...  \n",
      "4  Title: Kota Factory, Director: nan, Cast: Mayu...  \n"
     ]
    }
   ],
   "source": [
    "def representation_df(row):\n",
    "    textual_representation = f\"Title: {row['title']}, Director: {row['director']}, Cast: {row['cast']},  Genres: {row['listed_in']}, Description: {row['description']}\"\n",
    "    return textual_representation\n",
    "\n",
    "movies_df['textual_representation'] = movies_df.apply(representation_df, axis=1)\n",
    "print(movies_df.head())    "
   ]
  },
  {
   "cell_type": "code",
   "execution_count": 34,
   "metadata": {},
   "outputs": [
    {
     "data": {
      "text/plain": [
       "'Title: Dick Johnson Is Dead, Director: Kirsten Johnson, Cast: nan,  Genres: Documentaries, Description: As her father nears the end of his life, filmmaker Kirsten Johnson stages his death in inventive and comical ways to help them both face the inevitable.'"
      ]
     },
     "execution_count": 34,
     "metadata": {},
     "output_type": "execute_result"
    }
   ],
   "source": [
    "movies_df[\"textual_representation\"].values[0]"
   ]
  },
  {
   "cell_type": "code",
   "execution_count": 35,
   "metadata": {},
   "outputs": [
    {
     "data": {
      "text/plain": [
       "array([[0., 0., 0., ..., 0., 0., 0.],\n",
       "       [0., 0., 0., ..., 0., 0., 0.],\n",
       "       [0., 0., 0., ..., 0., 0., 0.],\n",
       "       ...,\n",
       "       [0., 0., 0., ..., 0., 0., 0.],\n",
       "       [0., 0., 0., ..., 0., 0., 0.],\n",
       "       [0., 0., 0., ..., 0., 0., 0.]], dtype=float32)"
      ]
     },
     "execution_count": 35,
     "metadata": {},
     "output_type": "execute_result"
    }
   ],
   "source": [
    "import faiss\n",
    "from langchain_openai import OpenAIEmbeddings\n",
    "import numpy as np\n",
    "import getpass\n",
    "import os\n",
    "\n",
    "if not os.getenv(\"OPENAI_API_KEY\"):\n",
    "    os.environ[\"OPENAI_API_KEY\"] = getpass.getpass(\"Enter your OpenAI API key: \")\n",
    "    \n",
    "dim= 1536\n",
    "index = faiss.IndexFlatL2(dim)  \n",
    "\n",
    "X = np.zeros((len(movies_df), dim) , dtype=\"float32\")\n",
    "\n",
    "X   "
   ]
  },
  {
   "cell_type": "code",
   "execution_count": 36,
   "metadata": {},
   "outputs": [
    {
     "name": "stdout",
     "output_type": "stream",
     "text": [
      "[-0.008000205270946026, 0.004284423775970936, -0.009954503737390041, -0.006016494240611792, -0.0016340288566425443]\n",
      "1536\n",
      "<class 'list'>\n"
     ]
    }
   ],
   "source": [
    "#probar api formato de embedding\n",
    "res = OpenAIEmbeddings().embed_query(movies_df[\"textual_representation\"].values[0])\n",
    "print(res[0:5])\n",
    "print(len(res))\n",
    "print(type(res))\n",
    "\n",
    "faiss.write_index(index, \"index.faiss\")\n",
    "index = faiss.read_index(\"index.faiss\")\n"
   ]
  },
  {
   "cell_type": "code",
   "execution_count": 37,
   "metadata": {},
   "outputs": [
    {
     "name": "stdout",
     "output_type": "stream",
     "text": [
      "Processed 0 movies\n",
      "Processed 200 movies\n",
      "Processed 400 movies\n",
      "Processed 600 movies\n",
      "Processed 800 movies\n",
      "Processed 1000 movies\n",
      "Processed 1200 movies\n",
      "Processed 1400 movies\n"
     ]
    }
   ],
   "source": [
    "movies_df = movies_df.tail(dim)\n",
    "\n",
    "for i, text in enumerate(movies_df['textual_representation']):\n",
    "    if i % 200 == 0:\n",
    "        print(f\"Processed {i} movies\")\n",
    "    try:\n",
    "        res = OpenAIEmbeddings().embed_query(text)\n",
    "        X[i] = np.array(res)\n",
    "    except Exception as e:\n",
    "        print(f\"Error processing movie at index {i}: {e}\")\n",
    "index.add(X)"
   ]
  },
  {
   "cell_type": "code",
   "execution_count": 42,
   "metadata": {},
   "outputs": [],
   "source": [
    "faiss.write_index(index, \"index2.faiss\")"
   ]
  },
  {
   "cell_type": "code",
   "execution_count": 43,
   "metadata": {},
   "outputs": [],
   "source": [
    "index = faiss.read_index(\"index2.faiss\")"
   ]
  },
  {
   "cell_type": "markdown",
   "metadata": {},
   "source": [
    "## INPUT\n"
   ]
  },
  {
   "cell_type": "code",
   "execution_count": 44,
   "metadata": {},
   "outputs": [
    {
     "name": "stdout",
     "output_type": "stream",
     "text": [
      "[[0.09888822 0.21962631 0.29690358 0.30280223 0.3083499 ]]\n",
      "[[ 796  797 1534  144 1309]]\n"
     ]
    }
   ],
   "source": [
    "favorite_movie = \"Title: Spider-Man, Director: Sam Raimi, Cast: Tobey Maguire, Kirsten Dunst, Willem Dafoe, Genres: Action, Adventure, Sci-Fi, Description: After being bitten by a genetically altered spider, nerdy high school student Peter Parker is endowed with amazing powers to become the Amazing superhero known as Spider-Man.\"\n",
    "\n",
    "query_vector = OpenAIEmbeddings().embed_query(favorite_movie)\n",
    "\n",
    "D, I = index.search(np.array([query_vector]), k=5)\n",
    "\n",
    "print(D)\n",
    "print(I)\n",
    "\n"
   ]
  },
  {
   "cell_type": "markdown",
   "metadata": {},
   "source": [
    "# find movie"
   ]
  },
  {
   "cell_type": "code",
   "execution_count": 45,
   "metadata": {},
   "outputs": [
    {
     "name": "stdout",
     "output_type": "stream",
     "text": [
      "['Title: Spider-Man 3, Director: Sam Raimi, Cast: Tobey Maguire, Kirsten Dunst, James Franco, Thomas Haden Church, Topher Grace, Bryce Dallas Howard, Rosemary Harris, J.K. Simmons, James Cromwell, Theresa Russell, Dylan Baker, Bill Nunn, Bruce Campbell, Elizabeth Banks,  Genres: Action & Adventure, Sci-Fi & Fantasy, Description: The seemingly invincible Spider-Man goes up against an all-new crop of villains in the third installment of the blockbuster adventure series.'\n",
      " 'Title: Spider-Man: Into the Spider-Verse, Director: Peter Ramsey, Rodney Rothman, Bob Persichetti, Cast: Shameik Moore, Jake Johnson, Hailee Steinfeld, Brian Tyree Henry, Lauren Vélez, Mahershala Ali, Lily Tomlin, Kathryn Hahn, Liev Schreiber, Kimiko Glenn, Nicolas Cage, John Mulaney,  Genres: Action & Adventure, Comedies, Description: After being bitten by a radioactive spider, Brooklyn teen Miles Morales gets a crash course in web-slinging from his alternate-dimension counterparts.'\n",
      " 'Title: Zoom, Director: Peter Hewitt, Cast: Tim Allen, Courteney Cox, Chevy Chase, Kate Mara, Ryan Newman, Michael Cassidy, Spencer Breslin, Rip Torn, Kevin Zegers,  Genres: Children & Family Movies, Comedies, Description: Dragged from civilian life, a former superhero must train a new crop of youthful saviors when the military preps for an attack by a familiar villain.'\n",
      " \"Title: Marvel's Iron Man & Hulk: Heroes United, Director: Leo Riley, Eric Radomski, Cast: Adrian Pasdar, Fred Tatasciore, Dee Bradley Baker, Robin Atkin Downes, David Kaye,  Genres: Action & Adventure, Sci-Fi & Fantasy, Description: When scientists join Hulk's gamma energy with Tony Stark's Arc Reactor, the resulting force creates a foe that only the two Marvel heroes can combat.\"\n",
      " 'Title: Thor: Ragnarok, Director: Taika Waititi, Cast: Chris Hemsworth, Tom Hiddleston, Cate Blanchett, Idris Elba, Jeff Goldblum, Tessa Thompson, Karl Urban, Mark Ruffalo, Anthony Hopkins, Benedict Cumberbatch, Taika Waititi, Rachel House, Clancy Brown, Tadanobu Asano, Ray Stevenson, Zachary Levi, Luke Hemsworth, Sam Neill,  Genres: Action & Adventure, Comedies, Sci-Fi & Fantasy, Description: To save Asgard from a bloodthirsty goddess of death, the mighty Thor will have to battle his way to freedom and find a way back home.']\n"
     ]
    }
   ],
   "source": [
    "best_matches = np.array(movies_df['textual_representation'])[I.flatten()]\n",
    "print(best_matches)"
   ]
  },
  {
   "cell_type": "code",
   "execution_count": 48,
   "metadata": {},
   "outputs": [
    {
     "name": "stdout",
     "output_type": "stream",
     "text": [
      "[[0.18550126 0.3099234  0.31138295 0.31188726 0.31564403]]\n",
      "[[1363  610 1309  480 1423]]\n",
      "[\"Title: Troy: The Odyssey, Director: Tekin Girgin, Cast: Dylan Vox, Lara Heller, Hachem Hicham, David Gray, Kelly B. Jones, Daniel Whyte, Eoin O'Brien, Ego Mikitas,  Genres: Action & Adventure, Description: Starting with the Trojan Horse attack, this modest re-telling of Homer's epic covers well-known highlights of Odysseus's long journey home.\"\n",
      " 'Title: Rocky III, Director: Sylvester Stallone, Cast: Sylvester Stallone, Talia Shire, Burt Young, Carl Weathers, Burgess Meredith, Tony Burton, Mr. T, Hulk Hogan, Ian Fried,  Genres: Dramas, Sports Movies, Description: After taking a pounding from a powerful young fighter, humbled world champ Rocky Balboa turns to ex-rival Apollo Creed for help in regaining his form.'\n",
      " 'Title: Thor: Ragnarok, Director: Taika Waititi, Cast: Chris Hemsworth, Tom Hiddleston, Cate Blanchett, Idris Elba, Jeff Goldblum, Tessa Thompson, Karl Urban, Mark Ruffalo, Anthony Hopkins, Benedict Cumberbatch, Taika Waititi, Rachel House, Clancy Brown, Tadanobu Asano, Ray Stevenson, Zachary Levi, Luke Hemsworth, Sam Neill,  Genres: Action & Adventure, Comedies, Sci-Fi & Fantasy, Description: To save Asgard from a bloodthirsty goddess of death, the mighty Thor will have to battle his way to freedom and find a way back home.'\n",
      " \"Title: Platoon, Director: Oliver Stone, Cast: Tom Berenger, Willem Dafoe, Charlie Sheen, Forest Whitaker, Francesco Quinn, John C. McGinley, Richard Edson, Kevin Dillon, Reggie Johnson, Keith David,  Genres: Action & Adventure, Classic Movies, Dramas, Description: A soldier grows disillusioned as he's caught between rival sergeants in this semi-autobiographical Vietnam War drama from writer-director Oliver Stone.\"\n",
      " 'Title: War, Director: Philip G. Atwell, Cast: Jet Li, Jason Statham, John Lone, Devon Aoki, Luis Guzmán, Saul Rubinek, Sung Kang, Mathew St. Patrick, Nadine Velazquez, Andrea Roth, Mark Cheng, Kane Kosugi, Ryo Ishibashi, Steph Song,  Genres: Action & Adventure, Description: When his partner is killed and all clues point to a notorious assassin, FBI agent Jack Crawford sets out for revenge in this taut action-thriller.']\n"
     ]
    }
   ],
   "source": [
    "#Intentarlo con troya\n",
    "favorite_movie = \"Tittle: Troy, Director: Wolfgang Petersen, Cast: Brad Pitt, Eric Bana, Orlando Bloom, Genres: Action, Adventure, Drama, History, Description: Achilles and his lover, the Trojan prince Hector, face off against each other in a battle for supremacy.\"\n",
    "query_vector = OpenAIEmbeddings().embed_query(favorite_movie)\n",
    "D, I = index.search(np.array([query_vector]), k=5)\n",
    "print(D)\n",
    "print(I)\n",
    "best_matches = np.array(movies_df['textual_representation'])[I.flatten()]\n",
    "print(best_matches)\n"
   ]
  }
 ],
 "metadata": {
  "kernelspec": {
   "display_name": "Python 3 (ipykernel)",
   "language": "python",
   "name": "python3"
  },
  "language_info": {
   "codemirror_mode": {
    "name": "ipython",
    "version": 3
   },
   "file_extension": ".py",
   "mimetype": "text/x-python",
   "name": "python",
   "nbconvert_exporter": "python",
   "pygments_lexer": "ipython3",
   "version": "3.12.5"
  }
 },
 "nbformat": 4,
 "nbformat_minor": 4
}
